{
 "cells": [
  {
   "cell_type": "markdown",
   "id": "109455b4",
   "metadata": {},
   "source": [
    "# Photon extractor\n",
    "\n",
    "Visit the invrs-gym docs for the [photon extractor challenge](https://invrs-io.github.io/gym/notebooks/photon_extractor_challenge.html).\n",
    "\n",
    "The metalens challenge is based on  “[Inverse-designed photon extractors for optically addressable defect qubits](https://opg.optica.org/optica/fulltext.cfm?uri=optica-7-12-1805)” by Chakravarthi et al., and entails the design of a patterned GaP layer that enhances the power collected from a nitrogen vacancy defect buried at a depth of 100 nm within a diamond substrate.\n",
    "\n",
    "The photon extractor eval metric is defined as follows:"
   ]
  },
  {
   "cell_type": "code",
   "execution_count": null,
   "id": "d53fb9f1",
   "metadata": {
    "tags": [
     "hide-input"
    ]
   },
   "outputs": [],
   "source": [
    "from invrs_gym import challenges\n",
    "\n",
    "docstring = challenges.photon_extractor().eval_metric.__doc__\n",
    "print(\"\\n\".join([s[8:] for s in docstring.split(\"Args\")[0].split(\"\\n\")[2:-2]]))"
   ]
  },
  {
   "cell_type": "code",
   "execution_count": null,
   "id": "f8c178cb",
   "metadata": {
    "tags": [
     "hide-cell"
    ]
   },
   "outputs": [],
   "source": [
    "import os\n",
    "import plotly.express as px\n",
    "from IPython import display\n",
    "from invrs_leaderboard import data\n",
    "\n",
    "df = data.leaderboard_dataframe(base_path=\"../../\")\n",
    "\n",
    "def plot_challenge_metrics(challenge_name: str) -> display.DisplayHandle:\n",
    "    challenge_df = df[df[\"challenge\"] == challenge_name]\n",
    "    fig = px.scatter(\n",
    "        challenge_df,\n",
    "        x=\"minimum_length_scale\",\n",
    "        y=\"eval_metric\",\n",
    "        color=\"file_prefix\",\n",
    "        hover_data=[\"file\", \"minimum_width\", \"minimum_spacing\", \"binarization_degree\"],\n",
    "    )\n",
    "    if not os.path.exists(\"_plots/\"):\n",
    "        os.mkdir(\"_plots/\")\n",
    "    filename = f\"_plots/eval_metric_{challenge_name}.html\"\n",
    "    fig.write_html(filename)\n",
    "    return display.display(display.HTML(filename))"
   ]
  },
  {
   "cell_type": "code",
   "execution_count": null,
   "id": "659f89ae",
   "metadata": {},
   "outputs": [],
   "source": [
    "plot_challenge_metrics(\"photon_extractor\")"
   ]
  }
 ],
 "metadata": {
  "kernelspec": {
   "display_name": "Python 3 (ipykernel)",
   "language": "python",
   "name": "python3"
  },
  "language_info": {
   "codemirror_mode": {
    "name": "ipython",
    "version": 3
   },
   "file_extension": ".py",
   "mimetype": "text/x-python",
   "name": "python",
   "nbconvert_exporter": "python",
   "pygments_lexer": "ipython3",
   "version": "3.10.12"
  }
 },
 "nbformat": 4,
 "nbformat_minor": 5
}
