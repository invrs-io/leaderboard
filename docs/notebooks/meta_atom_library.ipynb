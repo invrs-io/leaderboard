{
 "cells": [
  {
   "cell_type": "markdown",
   "id": "874f5463",
   "metadata": {},
   "source": [
    "# Meta-atom library\n",
    "\n",
    "Visit the invrs-gym docs for the [meta-atom library challenge](https://invrs-io.github.io/gym/notebooks/library_challenge.html).\n",
    "\n",
    "The meta-atom library challenge is based on “[Dispersion-engineered metasurfaces reaching broadband 90% relative diffraction efficiency](https://www.nature.com/articles/s41467-023-38185-2)” by Chen et al., and entails the design of eight meta-atoms for use in broadband, visible-wavelength metasurfaces.\n",
    "\n",
    "The meta atom library eval metric is defined as follows:"
   ]
  },
  {
   "cell_type": "code",
   "execution_count": null,
   "id": "04502bcc",
   "metadata": {
    "tags": [
     "hide-input"
    ]
   },
   "outputs": [],
   "source": [
    "from invrs_gym import challenges\n",
    "\n",
    "docstring = challenges.meta_atom_library().eval_metric.__doc__\n",
    "print(\"\\n\".join(docstring.split(\"Args\")[0].split(\"\\n\")[2:-2]))"
   ]
  },
  {
   "cell_type": "code",
   "execution_count": null,
   "id": "f8c178cb",
   "metadata": {
    "tags": [
     "hide-cell"
    ]
   },
   "outputs": [],
   "source": [
    "import os\n",
    "import plotly.express as px\n",
    "from IPython import display\n",
    "from invrs_leaderboard import data\n",
    "\n",
    "df = data.leaderboard_dataframe(base_path=\"../../\")\n",
    "\n",
    "def plot_challenge_metrics(challenge_name: str) -> display.DisplayHandle:\n",
    "    challenge_df = df[df[\"challenge\"] == challenge_name]\n",
    "    fig = px.scatter(\n",
    "        challenge_df,\n",
    "        x=\"minimum_length_scale\",\n",
    "        y=\"eval_metric\",\n",
    "        color=\"file_prefix\",\n",
    "        hover_data=[\"file\", \"minimum_width\", \"minimum_spacing\", \"binarization_degree\"],\n",
    "    )\n",
    "    if not os.path.exists(\"_plots/\"):\n",
    "        os.mkdir(\"_plots/\")\n",
    "    filename = f\"_plots/eval_metric_{challenge_name}.html\"\n",
    "    fig.write_html(filename)\n",
    "    return display.display(display.HTML(filename))"
   ]
  },
  {
   "cell_type": "code",
   "execution_count": null,
   "id": "0d5f31a5",
   "metadata": {},
   "outputs": [],
   "source": [
    "plot_challenge_metrics(\"meta_atom_library\")"
   ]
  }
 ],
 "metadata": {
  "kernelspec": {
   "display_name": "Python 3 (ipykernel)",
   "language": "python",
   "name": "python3"
  },
  "language_info": {
   "codemirror_mode": {
    "name": "ipython",
    "version": 3
   },
   "file_extension": ".py",
   "mimetype": "text/x-python",
   "name": "python",
   "nbconvert_exporter": "python",
   "pygments_lexer": "ipython3",
   "version": "3.10.12"
  }
 },
 "nbformat": 4,
 "nbformat_minor": 5
}
