{
 "cells": [
  {
   "cell_type": "markdown",
   "id": "0f55fcc2",
   "metadata": {},
   "source": [
    "# Ceviche challenges\n",
    "\n",
    "Visit the invrs-gym docs for the [ceviche challenges](https://invrs-io.github.io/gym/notebooks/ceviche_challenge.html).\n",
    "\n",
    "The ceviche challenges are based on \"[Inverse design of photonic devices with strict foundry fabrication constraints](https://doi.org/10.1021/acsphotonics.2c00313)\" by M. F. Schubert et al., and the associated [github repo](https://github.com/google/ceviche-challenges). They entail the design of integrated photonic components such as a beam splitter, mode converter, waveguide bend, and wavelength demultiplexer (wdm).\n",
    "\n",
    "The eval metric for ceviche challenges is defined in terms of transmission upper and lower bounds that are specified for each challenge, as follows:"
   ]
  },
  {
   "cell_type": "code",
   "execution_count": null,
   "id": "900d5b5b",
   "metadata": {
    "tags": [
     "hide-input"
    ]
   },
   "outputs": [],
   "source": [
    "import os\n",
    "import contextlib\n",
    "\n",
    "with open(os.devnull, \"w\") as f, contextlib.redirect_stdout(f):\n",
    "    # Avoid printing by `refractiveindex` module on first run.\n",
    "    from invrs_gym import challenges\n",
    "\n",
    "docstring = challenges.ceviche_beam_splitter().eval_metric.__doc__\n",
    "print(\"\\n\".join([s[8:] for s in docstring.split(\"Args\")[0].split(\"\\n\")[2:-2]]))"
   ]
  },
  {
   "cell_type": "code",
   "execution_count": null,
   "id": "ce0f2d4e",
   "metadata": {
    "tags": [
     "hide-cell"
    ]
   },
   "outputs": [],
   "source": [
    "import os\n",
    "import plotly.express as px\n",
    "from IPython import display\n",
    "from invrs_leaderboard import data\n",
    "\n",
    "df = data.leaderboard_dataframe(base_path=\"../../\")\n",
    "\n",
    "def plot_challenge_metrics(challenge_name: str) -> display.DisplayHandle:\n",
    "    challenge_df = df[df[\"challenge\"] == challenge_name]\n",
    "    fig = px.scatter(\n",
    "        challenge_df,\n",
    "        x=\"minimum_length_scale\",\n",
    "        y=\"eval_metric\",\n",
    "        color=\"file_prefix\",\n",
    "        hover_data=[\"file\", \"minimum_width\", \"minimum_spacing\", \"binarization_degree\"],\n",
    "    )\n",
    "    if not os.path.exists(\"_plots/\"):\n",
    "        os.mkdir(\"_plots/\")\n",
    "    filename = f\"_plots/eval_metric_{challenge_name}.html\"\n",
    "    fig.write_html(filename)\n",
    "    return display.display(display.HTML(filename))"
   ]
  },
  {
   "cell_type": "code",
   "execution_count": null,
   "id": "edab4c73",
   "metadata": {},
   "outputs": [],
   "source": [
    "plot_challenge_metrics(\"ceviche_beam_splitter\")"
   ]
  },
  {
   "cell_type": "code",
   "execution_count": null,
   "id": "14a3d30d",
   "metadata": {},
   "outputs": [],
   "source": [
    "plot_challenge_metrics(\"ceviche_mode_converter\")"
   ]
  },
  {
   "cell_type": "code",
   "execution_count": null,
   "id": "9a76a2a3",
   "metadata": {},
   "outputs": [],
   "source": [
    "plot_challenge_metrics(\"ceviche_waveguide_bend\")"
   ]
  },
  {
   "cell_type": "code",
   "execution_count": null,
   "id": "03a9a3ad",
   "metadata": {},
   "outputs": [],
   "source": [
    "plot_challenge_metrics(\"ceviche_wdm\")"
   ]
  }
 ],
 "metadata": {
  "kernelspec": {
   "display_name": "Python 3 (ipykernel)",
   "language": "python",
   "name": "python3"
  },
  "language_info": {
   "codemirror_mode": {
    "name": "ipython",
    "version": 3
   },
   "file_extension": ".py",
   "mimetype": "text/x-python",
   "name": "python",
   "nbconvert_exporter": "python",
   "pygments_lexer": "ipython3",
   "version": "3.10.12"
  }
 },
 "nbformat": 4,
 "nbformat_minor": 5
}
