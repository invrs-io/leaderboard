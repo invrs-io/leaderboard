{
 "cells": [
  {
   "cell_type": "markdown",
   "id": "0f55fcc2",
   "metadata": {},
   "source": [
    "# Ceviche challenges"
   ]
  },
  {
   "cell_type": "code",
   "execution_count": null,
   "id": "ce0f2d4e",
   "metadata": {},
   "outputs": [],
   "source": [
    "import pandas as pd\n",
    "import plotly.express as px\n",
    "from IPython import display\n",
    "from invrs_leaderboard import data\n",
    "\n",
    "df = data.leaderboard_dataframe(base_path=\"../../\")\n",
    "\n",
    "def plot_challenge_metrics(challenge_name: str) -> display.DisplayHandle:\n",
    "    challenge_df = df[df[\"challenge\"] == challenge_name]\n",
    "    fig = px.scatter(\n",
    "        challenge_df,\n",
    "        x=\"minimum_length_scale\",\n",
    "        y=\"eval_metric\",\n",
    "        color=\"file_prefix\",\n",
    "        hover_data=[\"file\", \"minimum_width\", \"minimum_spacing\", \"binarization_degree\"],\n",
    "    )\n",
    "    filename = f\"plots/eval_metric_{challenge_name}.html\"\n",
    "    fig.write_html(filename)\n",
    "    return display.display(display.HTML(filename))"
   ]
  },
  {
   "cell_type": "code",
   "execution_count": null,
   "id": "edab4c73",
   "metadata": {},
   "outputs": [],
   "source": [
    "plot_challenge_metrics(\"ceviche_beam_splitter\")"
   ]
  },
  {
   "cell_type": "code",
   "execution_count": null,
   "id": "14a3d30d",
   "metadata": {},
   "outputs": [],
   "source": [
    "plot_challenge_metrics(\"ceviche_mode_converter\")"
   ]
  },
  {
   "cell_type": "code",
   "execution_count": null,
   "id": "9a76a2a3",
   "metadata": {},
   "outputs": [],
   "source": [
    "plot_challenge_metrics(\"ceviche_waveguide_bend\")"
   ]
  },
  {
   "cell_type": "code",
   "execution_count": null,
   "id": "03a9a3ad",
   "metadata": {},
   "outputs": [],
   "source": [
    "plot_challenge_metrics(\"ceviche_wdm\")"
   ]
  }
 ],
 "metadata": {
  "kernelspec": {
   "display_name": "Python 3 (ipykernel)",
   "language": "python",
   "name": "python3"
  },
  "language_info": {
   "codemirror_mode": {
    "name": "ipython",
    "version": 3
   },
   "file_extension": ".py",
   "mimetype": "text/x-python",
   "name": "python",
   "nbconvert_exporter": "python",
   "pygments_lexer": "ipython3",
   "version": "3.10.12"
  }
 },
 "nbformat": 4,
 "nbformat_minor": 5
}
