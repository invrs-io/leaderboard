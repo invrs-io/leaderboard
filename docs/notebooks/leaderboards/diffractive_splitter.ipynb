{
 "cells": [
  {
   "cell_type": "markdown",
   "id": "6dd24c9b",
   "metadata": {},
   "source": [
    "# Diffractive splitter\n",
    "\n",
    "Visit the invrs-gym docs for the [diffractive splitter challenge](https://invrs-io.github.io/leaderboard/notebooks/challenges/diffractive_splitter.html).\n",
    "\n",
    "The diffractive splitter challenge is based on the “[Design and rigorous analysis of a non-paraxial diffractive beamsplitter](https://www.lighttrans.com/fileadmin/shared/UseCases/Application_UC_Rigorous%20Analysis%20of%20Non-paraxial%20Diffractive%20Beam%20Splitter.pdf)” slide deck retrieved from the LightTrans web site, and entails the design of a metasurface that evenly splits a normally-incident plane wave into a 7x7 array of beams, with diffraction angles of ±15 degrees.\n",
    "\n",
    "The diffractive splitter eval metric is defined as follows:"
   ]
  },
  {
   "cell_type": "code",
   "execution_count": null,
   "id": "a805742a",
   "metadata": {
    "tags": [
     "hide-input"
    ]
   },
   "outputs": [],
   "source": [
    "from invrs_gym import challenges\n",
    "\n",
    "challenge = challenges.diffractive_splitter()\n",
    "docstring = challenge.eval_metric.__doc__\n",
    "print(\"\\n\".join([s[8:] for s in docstring.split(\"Args\")[0].split(\"\\n\")[2:-2]]))"
   ]
  },
  {
   "cell_type": "code",
   "execution_count": null,
   "id": "f8c178cb",
   "metadata": {
    "tags": [
     "hide-cell"
    ]
   },
   "outputs": [],
   "source": [
    "import os\n",
    "import plotly.express as px\n",
    "from IPython import display\n",
    "from invrs_leaderboard import data\n",
    "\n",
    "df = data.leaderboard_dataframe(base_path=\"../../../\")\n",
    "grid_spacing_nm = challenge.component.spec.grid_spacing * 1000\n",
    "df[\"minimum_width_nm\"] = df[\"minimum_width\"] * grid_spacing_nm\n",
    "df[\"minimum_spacing_nm\"] = df[\"minimum_spacing\"] * grid_spacing_nm\n",
    "df[\"minimum_length_scale_nm\"] = df[\"minimum_length_scale\"] * grid_spacing_nm\n",
    "\n",
    "def plot_challenge_metrics(challenge_name: str) -> display.DisplayHandle:\n",
    "    challenge_df = df[df[\"challenge\"] == challenge_name]\n",
    "    fig = px.scatter(\n",
    "        challenge_df,\n",
    "        x=\"minimum_length_scale_nm\",\n",
    "        y=\"eval_metric\",\n",
    "        color=\"file_prefix\",\n",
    "        hover_data=[\"file\", \"minimum_width_nm\", \"minimum_spacing_nm\", \"binarization_degree\"],\n",
    "    )\n",
    "    if not os.path.exists(\"_plots/\"):\n",
    "        os.mkdir(\"_plots/\")\n",
    "    filename = f\"_plots/eval_metric_{challenge_name}.html\"\n",
    "    fig.write_html(filename)\n",
    "    return display.display(display.HTML(filename))"
   ]
  },
  {
   "cell_type": "code",
   "execution_count": null,
   "id": "0712f9cd",
   "metadata": {},
   "outputs": [],
   "source": [
    "plot_challenge_metrics(\"diffractive_splitter\")"
   ]
  }
 ],
 "metadata": {
  "kernelspec": {
   "display_name": "Python 3 (ipykernel)",
   "language": "python",
   "name": "python3"
  },
  "language_info": {
   "codemirror_mode": {
    "name": "ipython",
    "version": 3
   },
   "file_extension": ".py",
   "mimetype": "text/x-python",
   "name": "python",
   "nbconvert_exporter": "python",
   "pygments_lexer": "ipython3",
   "version": "3.10.12"
  }
 },
 "nbformat": 4,
 "nbformat_minor": 5
}
